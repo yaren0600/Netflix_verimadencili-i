# Gerekli kütüphaneler

import pandas as pd
import numpy as np
import matplotlib.pyplot as plt
import seaborn as sns
from sklearn.preprocessing import LabelEncoder, MultiLabelBinarizer
from sklearn.feature_extraction.text import TfidfVectorizer
from sklearn.model_selection import train_test_split, cross_val_score
from sklearn.ensemble import RandomForestClassifier
from sklearn.metrics import accuracy_score, confusion_matrix, classification_report
from sklearn.cluster import KMeans
from sklearn.feature_selection import SelectKBest, f_classif

# 1. Veri Setini Yükle ve Temizle
df = pd.read_csv("netflix_titles.csv")
df = df[df['rating'].isin(['TV-MA', 'TV-14', 'PG', 'R'])]
df = df[['type', 'rating', 'release_year', 'duration', 'country', 'listed_in', 'director', 'cast', 'description']].dropna()
df['duration'] = df['duration'].str.extract('(\d+)').astype(float)
df = df[df['duration'] < 500]  # outlier temizliği
df.reset_index(drop=True, inplace=True)
# 2. Görselleştirmeler
plt.figure(figsize=(6,4))
sns.countplot(x='rating', data=df)
plt.title('Rating Dağılımı')
plt.show()

plt.figure(figsize=(10,5))
sns.histplot(data=df, x='release_year', hue='rating', multiple='stack', binwidth=1)
plt.title('Yıllara Göre Rating Dağılımı')
plt.show()

plt.figure(figsize=(8,5))
sns.boxplot(x='rating', y='duration', data=df)
plt.title("Rating'e Göre Süre Dağılımı")
plt.show()
# 3. Özellik Mühendisliği
# Genre -> Çoklu etiket vektörü
mlb = MultiLabelBinarizer()
genres = df['listed_in'].apply(lambda x: [i.strip() for i in x.split(',')])
genres_encoded = pd.DataFrame(mlb.fit_transform(genres), columns=mlb.classes_)
# Kategorik sütunlar -> Sayısal
le = LabelEncoder()
df['type'] = le.fit_transform(df['type'])
df['country'] = le.fit_transform(df['country'])
df['director'] = le.fit_transform(df['director'])
df['cast'] = le.fit_transform(df['cast'])
df['rating'] = le.fit_transform(df['rating'])
# Açıklamalar -> TF-IDF
tfidf = TfidfVectorizer(max_features=100)
tfidf_matrix = tfidf.fit_transform(df['description'])
tfidf_df = pd.DataFrame(tfidf_matrix.toarray(), columns=tfidf.get_feature_names_out())
# Tüm özellikleri birleştir
X = pd.concat([
    df[['type', 'release_year', 'duration', 'country', 'director', 'cast']].reset_index(drop=True),
    genres_encoded.reset_index(drop=True),
    tfidf_df.reset_index(drop=True)
], axis=1)
y = df['rating']
# 4. Özellik Seçimi (SelectKBest)
selector = SelectKBest(score_func=f_classif, k=50)
X_selected = selector.fit_transform(X, y)
# 4. Modelleme
X_train, X_test, y_train, y_test = train_test_split(X_selected, y, test_size=0.3, random_state=42)
clf = RandomForestClassifier(n_estimators=100, random_state=42)
clf.fit(X_train, y_train)
y_pred = clf.predict(X_test)

# 5. Başarı Ölçütleri
print("Tüm veri doğruluğu:", accuracy_score(y, clf.predict(X_selected)))
print("%70-%30 test doğruluğu:", accuracy_score(y_test, y_pred))
print("5-Fold CV doğruluğu:", cross_val_score(clf, X_selected, y, cv=5).mean())
# Konfüzyon Matrisi ve Rapor
cm = confusion_matrix(y_test, y_pred)
plt.figure(figsize=(6,5))
sns.heatmap(cm, annot=True, fmt='d', cmap='Blues', xticklabels=le.classes_, yticklabels=le.classes_)
plt.xlabel('Tahmin Edilen')
plt.ylabel('Gerçek')
plt.title('Konfüzyon Matrisi')
plt.show()

print(classification_report(y_test, y_pred, target_names=le.classes_))
# 6. KMeans Kümeleme



kmeans = KMeans(n_clusters=5, random_state=42)
kmeans.fit(tfidf_matrix)
# Kümeleme sonuçlarını görselleştirelim
df['cluster'] = kmeans.labels_

plt.figure(figsize=(8,5))
sns.countplot(x='cluster', data=df)
plt.title('Kümeleme Sonuçları (KMeans)')
plt.xlabel('Küme')
plt.ylabel('Adet')
plt.show()
